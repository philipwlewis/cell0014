{
 "cells": [
  {
   "cell_type": "markdown",
   "metadata": {},
   "source": [
    "### Drawing the direction field (a)\n",
    "\n",
    "The code below reproduces the phase plot for our pendulum:\n",
    "    \n",
    "$$\\frac{dx}{dt} = v$$\n",
    "$$\\frac{dv}{dt} = -kx$$\n",
    "\n",
    "We add to this an annotation that shows how the system trajectory will evolve from the marked point.\n",
    "\n",
    "At time $t$ system is at position $x_1$ and velocity $v_1$.\n",
    "\n",
    "After a short interval at time $t + \\Delta t$ the system will move to new position $x_2$ and $v_2$ :\n",
    "\n",
    "$$x_2= x_1 + \\frac{dx}{dt} \\Delta t$$\n",
    "\n",
    "$$v_2= v_1 + \\frac{dv}{dt} \\Delta t$$\n",
    "\n"
   ]
  },
  {
   "cell_type": "code",
   "execution_count": 1,
   "metadata": {},
   "outputs": [],
   "source": [
    "import numpy as np\n",
    "import matplotlib.pyplot as plt\n",
    "from scipy.integrate import odeint"
   ]
  },
  {
   "cell_type": "code",
   "execution_count": 2,
   "metadata": {},
   "outputs": [],
   "source": [
    "# system vector contains variables\n",
    "# x - position\n",
    "# v - velocity\n",
    "\n",
    "# parameter k\n",
    "\n",
    "def sdot(s,t,k):\n",
    "    x = s[0]\n",
    "    v = s[1]\n",
    "\n",
    "    dx = v\n",
    "    dv = -k*x\n",
    "    \n",
    "    ds = [dx,dv]\n",
    "    \n",
    "    return ds\n",
    "\n",
    "\n",
    "\n",
    "\n",
    "# define initial conditions\n",
    "x0 = -0.8\n",
    "v0 = 0\n",
    "s0 = [x0,v0]\n",
    "\n",
    "# parameters\n",
    "# k - force constant - depends on length of pendulum\n",
    "k = 0.5\n",
    "\n",
    "t_max = 30.\n",
    "t_obs = np.linspace(0,t_max, int(t_max*10))\n",
    "n_obs=len(t_obs)\n",
    "\n",
    "s_obs = odeint(sdot, s0, t_obs, args=(k,))\n",
    "\n",
    "x_obs = s_obs[:,0]\n",
    "v_obs = s_obs[:,1]"
   ]
  },
  {
   "cell_type": "code",
   "execution_count": 8,
   "metadata": {},
   "outputs": [
    {
     "data": {
      "application/vnd.jupyter.widget-view+json": {
       "model_id": "baad310d30464b47a89ac31b383fca63",
       "version_major": 2,
       "version_minor": 0
      },
      "text/plain": [
       "interactive(children=(FloatSlider(value=0.5, continuous_update=False, description='x', max=1.0, min=-1.0, step…"
      ]
     },
     "metadata": {},
     "output_type": "display_data"
    }
   ],
   "source": [
    "from ipywidgets import interactive,FloatSlider\n",
    "\n",
    "def plot_arrow(x,v):\n",
    "    \n",
    "    fig = plt.figure(figsize=(8,8))\n",
    "    ax_phase=fig.add_subplot(1,1,1)\n",
    "    ax_phase.set_title('phase plot')\n",
    "    ax_phase.set_xlabel('position x')\n",
    "    ax_phase.set_ylabel('velocity v')\n",
    "    ax_phase.plot(x_obs, v_obs, 'b-')\n",
    "\n",
    "    # use rate equations to find change in x and v over short interal\n",
    "    change_t = 0.2\n",
    "    \n",
    "    dxdt = v\n",
    "    dvdt = -k*x\n",
    "    change_x = dxdt*change_t\n",
    "    change_v = dvdt*change_t \n",
    "    \n",
    "    ax_phase.hlines(v,-2,2,linestyle=':')\n",
    "    ax_phase.vlines(x,-2,2,linestyle=':')\n",
    "    \n",
    "    # plot this on the phase plot\n",
    "    # this indicates the direction the system takes\n",
    "    # from this position\n",
    "    ax_phase.plot([x,x+change_x],[v,v+change_v],'r-', linewidth=2.5)\n",
    "        # indicate starting point\n",
    "    ax_phase.plot(x,v,'r.',markersize=12)\n",
    "\n",
    "\n",
    "    ax_phase.set_xlim(-1,1)\n",
    "    ax_phase.set_ylim(-1,1)\n",
    "    \n",
    "    return fig\n",
    "    \n",
    "x_widget = FloatSlider(min=-1.0, max=1.0, step=0.01, value=0.5, continuous_update=False)\n",
    "v_widget = FloatSlider(min=-1.0, max=1.0, step=0.01, value=0.5, continuous_update=False)\n",
    "\n",
    "# create the interactive plot, passing a slider that will control each input variable\n",
    "\n",
    "interactive(plot_arrow, x=x_widget, v=v_widget)\n",
    "\n"
   ]
  }
 ],
 "metadata": {
  "kernelspec": {
   "display_name": "Python 3",
   "language": "python",
   "name": "python3"
  },
  "language_info": {
   "codemirror_mode": {
    "name": "ipython",
    "version": 3
   },
   "file_extension": ".py",
   "mimetype": "text/x-python",
   "name": "python",
   "nbconvert_exporter": "python",
   "pygments_lexer": "ipython3",
   "version": "3.8.5"
  }
 },
 "nbformat": 4,
 "nbformat_minor": 2
}
