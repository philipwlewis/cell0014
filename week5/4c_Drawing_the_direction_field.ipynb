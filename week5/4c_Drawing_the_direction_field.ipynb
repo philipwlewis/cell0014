{
 "cells": [
  {
   "cell_type": "markdown",
   "metadata": {},
   "source": [
    "### Drawing the direction field (c)\n",
    "\n",
    "The code below allows the user to select the initial conditions for the pendulum.\n",
    "\n",
    "This let's us simulate the system behaviour for any initial starting point and see how the drawn trajectories follows the direction field."
   ]
  },
  {
   "cell_type": "code",
   "execution_count": 4,
   "metadata": {},
   "outputs": [],
   "source": [
    "import numpy as np\n",
    "import matplotlib.pyplot as plt\n",
    "from scipy.integrate import odeint"
   ]
  },
  {
   "cell_type": "code",
   "execution_count": 5,
   "metadata": {},
   "outputs": [],
   "source": [
    "# system vector contains variables\n",
    "# x - position\n",
    "# v - velocity\n",
    "\n",
    "# parameter k\n",
    "\n",
    "def sdot(s,t,k):\n",
    "    x = s[0]\n",
    "    v = s[1]\n",
    "\n",
    "    dx = v\n",
    "    dv = -k*x\n",
    "    \n",
    "    ds = [dx,dv]\n",
    "    \n",
    "    return ds\n",
    "\n",
    "# parameters\n",
    "# k - force constant - depends on length of pendulum\n",
    "k = 0.5\n",
    "\n",
    "t_max = 30.\n",
    "t_obs = np.linspace(0,t_max, int(t_max*10))\n",
    "n_obs=len(t_obs)"
   ]
  },
  {
   "cell_type": "markdown",
   "metadata": {},
   "source": [
    "The plot below runs the same code but allows the user to select the initial x and v value:"
   ]
  },
  {
   "cell_type": "code",
   "execution_count": 6,
   "metadata": {},
   "outputs": [
    {
     "data": {
      "application/vnd.jupyter.widget-view+json": {
       "model_id": "af8c37b210ad4befa93ceed8831fd399",
       "version_major": 2,
       "version_minor": 0
      },
      "text/plain": [
       "interactive(children=(FloatSlider(value=0.5, continuous_update=False, description='x0', max=1.0, min=-1.0, ste…"
      ]
     },
     "metadata": {},
     "output_type": "display_data"
    }
   ],
   "source": [
    "# phase plot with user controlled start point\n",
    "\n",
    "from ipywidgets import interactive,FloatSlider\n",
    "\n",
    "def plot_trajectory(x0,v0):\n",
    "    \n",
    "    fig = plt.figure(figsize=(8,8))\n",
    "    ax_phase=fig.add_subplot(1,1,1)\n",
    "    ax_phase.set_title('phase plot')\n",
    "    ax_phase.set_xlabel('position x')\n",
    "    ax_phase.set_ylabel('velocity v')\n",
    "\n",
    "    s0 = [x0, v0]\n",
    "    s_obs = odeint(sdot, s0, t_obs, args=(k,))\n",
    "\n",
    "    x_obs = s_obs[:,0]\n",
    "    v_obs = s_obs[:,1]\n",
    "    \n",
    "    x_grid = np.linspace(-1,1,21)\n",
    "    v_grid = np.linspace(-1,1,21)\n",
    "    \n",
    "    for xi in x_grid:\n",
    "        for vi in v_grid:\n",
    "            # use rate equations to find change in x and v over short interal\n",
    "            change_t = 0.08\n",
    "    \n",
    "            dxdt = vi\n",
    "            dvdt = -k*xi\n",
    "            change_x = dxdt*change_t\n",
    "            change_v = dvdt*change_t \n",
    "    \n",
    "            # plot this on the phase plot\n",
    "            # this indicates the direction the system takes\n",
    "            # from this position\n",
    "            ax_phase.plot([xi,xi+change_x],[vi,vi+change_v],'r-')\n",
    "    \n",
    "            # indicate starting point\n",
    "            ax_phase.plot(xi,vi,'r.')\n",
    "    ax_phase.plot(x_obs, v_obs, 'b-')\n",
    "    ax_phase.plot(x0, v0, 'b.', markersize=12)\n",
    "\n",
    "\n",
    "    ax_phase.set_xlim(-1,1)\n",
    "    ax_phase.set_ylim(-1,1)\n",
    "    \n",
    "    return fig\n",
    "    \n",
    "x0_widget = FloatSlider(min=-1.0, max=1.0, step=0.01, value=0.5, continuous_update=False)\n",
    "v0_widget = FloatSlider(min=-1.0, max=1.0, step=0.01, value=0.5, continuous_update=False)\n",
    "\n",
    "# create the interactive plot, passing a slider that will control each input variable\n",
    "\n",
    "interactive(plot_trajectory, x0=x0_widget, v0=v0_widget)\n",
    "\n",
    "\n"
   ]
  },
  {
   "cell_type": "markdown",
   "metadata": {},
   "source": [
    "By exploring the system trajectory at different starting points \n",
    "we can see that the pendulum always has the same shaped elliptical \n",
    "path in phase-space, but the size of the orbit is dependent on \n",
    "the starting conditions."
   ]
  }
 ],
 "metadata": {
  "kernelspec": {
   "display_name": "Python 3",
   "language": "python",
   "name": "python3"
  },
  "language_info": {
   "codemirror_mode": {
    "name": "ipython",
    "version": 3
   },
   "file_extension": ".py",
   "mimetype": "text/x-python",
   "name": "python",
   "nbconvert_exporter": "python",
   "pygments_lexer": "ipython3",
   "version": "3.8.5"
  }
 },
 "nbformat": 4,
 "nbformat_minor": 2
}
