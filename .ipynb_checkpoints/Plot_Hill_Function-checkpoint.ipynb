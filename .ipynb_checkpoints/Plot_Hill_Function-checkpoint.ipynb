{
 "cells": [
  {
   "cell_type": "code",
   "execution_count": 1,
   "metadata": {},
   "outputs": [],
   "source": [
    "# Make an interactive plot of the Logistic Growth function"
   ]
  },
  {
   "cell_type": "code",
   "execution_count": 2,
   "metadata": {},
   "outputs": [],
   "source": [
    "# import the necessary Python modules\n",
    "#here I am\n",
    "%matplotlib inline\n",
    "from ipywidgets import interactive\n",
    "from ipywidgets import FloatSlider\n",
    "import math\n",
    "import matplotlib.pyplot as plt\n",
    "import numpy as np"
   ]
  },
  {
   "cell_type": "code",
   "execution_count": 48,
   "metadata": {},
   "outputs": [],
   "source": [
    "# write a function that draws a plot, according to a set of input parameter values\n",
    "\n",
    "def plot_hill_fn(Vmax, K, n):\n",
    "    S_start=0\n",
    "    S_end=5\n",
    "    R_max = 1.5\n",
    "    \n",
    "    S = np.linspace(S_start,S_end,1000)\n",
    "    R = []\n",
    "    for Si in S:\n",
    "        Ri = Vmax*(Si**n)/(K**n+Si**n)\n",
    "        R.append(Ri)\n",
    "        \n",
    "    fig1 = plt.figure(figsize=(8,6))\n",
    "    ax1 = fig1.add_subplot(1,1,1)\n",
    "    ax1.plot(S,R,lw=2)\n",
    "    \n",
    "    # set axis limits\n",
    "    ax1.set_ylim(0,R_max)\n",
    "    ax1.set_xlim(0,5)\n",
    "    \n",
    "    # Draw on Vmax on y-axis\n",
    "    ax1.axhline(Vmax,S_start,S_end,linestyle=':',color='r')\n",
    "    ax1.text(5,Vmax,\"Vmax\")\n",
    "\n",
    "    # Draw K on x-axis\n",
    "    ax1.axvline(K,0,Vmax*2,linestyle=':',color='b')\n",
    "    ax1.text(K,R_max,\"K\")\n",
    "    \n",
    "    # STYLE THE PLOT \n",
    "    ax1.spines['left'].set_position('zero')\n",
    "    ax1.spines['right'].set_color('none')\n",
    "    ax1.yaxis.tick_left()\n",
    "    ax1.spines['bottom'].set_position('zero')\n",
    "    ax1.spines['top'].set_color('none')\n",
    "    ax1.xaxis.tick_bottom()\n",
    "    ax1.set_xlabel(\"concentration [S]\")\n",
    "    ax1.set_ylabel(\"reaction rate R\")   \n",
    "\n",
    "    return\n"
   ]
  },
  {
   "cell_type": "code",
   "execution_count": 49,
   "metadata": {},
   "outputs": [
    {
     "data": {
      "application/vnd.jupyter.widget-view+json": {
       "model_id": "47576fdfe88547738973399f15606ae8",
       "version_major": 2,
       "version_minor": 0
      },
      "text/plain": [
       "interactive(children=(FloatSlider(value=1.0, description='Vmax', max=5.0, step=0.01), FloatSlider(value=1.0, d…"
      ]
     },
     "metadata": {},
     "output_type": "display_data"
    }
   ],
   "source": [
    "# define sliders that will control the parameter values\n",
    "\n",
    "Vmax_widget = FloatSlider(min=0.0, max=5, step=0.01, value=1.0)\n",
    "K_widget = FloatSlider(min=0.01, max=10.0, step=0.01, value=1.0)\n",
    "n_widget = FloatSlider(min=1, max=20.0, step=1, value=1.0)\n",
    "\n",
    "# create the interactive plot, passing a slider that will control each input variable\n",
    "\n",
    "interactive(plot_hill_fn, Vmax=Vmax_widget, K=K_widget, n=n_widget)\n",
    "\n",
    "# move the slider to change the Hill function parameters (Vmax, K, n)\n",
    "\n",
    "# the Michaelis-Menten equation is displayed when we set n = 1."
   ]
  },
  {
   "cell_type": "code",
   "execution_count": 56,
   "metadata": {},
   "outputs": [
    {
     "data": {
      "text/plain": [
       "-0.0"
      ]
     },
     "execution_count": 56,
     "metadata": {},
     "output_type": "execute_result"
    }
   ],
   "source": [
    "-0.00000001e-99999**0.45"
   ]
  },
  {
   "cell_type": "code",
   "execution_count": null,
   "metadata": {},
   "outputs": [],
   "source": []
  }
 ],
 "metadata": {
  "kernelspec": {
   "display_name": "Python 3",
   "language": "python",
   "name": "python3"
  },
  "language_info": {
   "codemirror_mode": {
    "name": "ipython",
    "version": 3
   },
   "file_extension": ".py",
   "mimetype": "text/x-python",
   "name": "python",
   "nbconvert_exporter": "python",
   "pygments_lexer": "ipython3",
   "version": "3.8.5"
  }
 },
 "nbformat": 4,
 "nbformat_minor": 2
}
